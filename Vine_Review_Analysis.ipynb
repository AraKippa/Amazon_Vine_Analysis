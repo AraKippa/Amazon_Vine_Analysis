{
 "cells": [
  {
   "cell_type": "code",
   "execution_count": 5,
   "id": "5b78ecdb",
   "metadata": {},
   "outputs": [],
   "source": [
    "import pandas as pd\n",
    "import os"
   ]
  },
  {
   "cell_type": "code",
   "execution_count": 8,
   "id": "2e8ef6fe",
   "metadata": {},
   "outputs": [],
   "source": [
    "#load vine.csv file\n",
    "vine_file = os.path.join(\"Amazon_Vine_Analysis\", \"vine.csv\")"
   ]
  },
  {
   "cell_type": "code",
   "execution_count": 13,
   "id": "5e926128",
   "metadata": {},
   "outputs": [
    {
     "data": {
      "text/html": [
       "<div>\n",
       "<style scoped>\n",
       "    .dataframe tbody tr th:only-of-type {\n",
       "        vertical-align: middle;\n",
       "    }\n",
       "\n",
       "    .dataframe tbody tr th {\n",
       "        vertical-align: top;\n",
       "    }\n",
       "\n",
       "    .dataframe thead th {\n",
       "        text-align: right;\n",
       "    }\n",
       "</style>\n",
       "<table border=\"1\" class=\"dataframe\">\n",
       "  <thead>\n",
       "    <tr style=\"text-align: right;\">\n",
       "      <th></th>\n",
       "      <th>review_id</th>\n",
       "      <th>star_rating</th>\n",
       "      <th>helpful_votes</th>\n",
       "      <th>total_votes</th>\n",
       "      <th>vine</th>\n",
       "      <th>verified_purchase</th>\n",
       "    </tr>\n",
       "  </thead>\n",
       "  <tbody>\n",
       "    <tr>\n",
       "      <th>0</th>\n",
       "      <td>REAKC26P07MDN</td>\n",
       "      <td>5</td>\n",
       "      <td>0</td>\n",
       "      <td>0</td>\n",
       "      <td>N</td>\n",
       "      <td>Y</td>\n",
       "    </tr>\n",
       "    <tr>\n",
       "      <th>1</th>\n",
       "      <td>R3NU7OMZ4HQIEG</td>\n",
       "      <td>2</td>\n",
       "      <td>0</td>\n",
       "      <td>1</td>\n",
       "      <td>N</td>\n",
       "      <td>Y</td>\n",
       "    </tr>\n",
       "    <tr>\n",
       "      <th>2</th>\n",
       "      <td>R14QJW3XF8QO1P</td>\n",
       "      <td>5</td>\n",
       "      <td>0</td>\n",
       "      <td>0</td>\n",
       "      <td>N</td>\n",
       "      <td>Y</td>\n",
       "    </tr>\n",
       "    <tr>\n",
       "      <th>3</th>\n",
       "      <td>R2HB7AX0394ZGY</td>\n",
       "      <td>5</td>\n",
       "      <td>0</td>\n",
       "      <td>0</td>\n",
       "      <td>N</td>\n",
       "      <td>Y</td>\n",
       "    </tr>\n",
       "    <tr>\n",
       "      <th>4</th>\n",
       "      <td>RGKMPDQGSAHR3</td>\n",
       "      <td>5</td>\n",
       "      <td>0</td>\n",
       "      <td>0</td>\n",
       "      <td>N</td>\n",
       "      <td>Y</td>\n",
       "    </tr>\n",
       "    <tr>\n",
       "      <th>...</th>\n",
       "      <td>...</td>\n",
       "      <td>...</td>\n",
       "      <td>...</td>\n",
       "      <td>...</td>\n",
       "      <td>...</td>\n",
       "      <td>...</td>\n",
       "    </tr>\n",
       "    <tr>\n",
       "      <th>2643236</th>\n",
       "      <td>R40AVFLMGSX5Q</td>\n",
       "      <td>1</td>\n",
       "      <td>32</td>\n",
       "      <td>34</td>\n",
       "      <td>N</td>\n",
       "      <td>N</td>\n",
       "    </tr>\n",
       "    <tr>\n",
       "      <th>2643237</th>\n",
       "      <td>R13RP6H1OP0BFS</td>\n",
       "      <td>5</td>\n",
       "      <td>3</td>\n",
       "      <td>3</td>\n",
       "      <td>N</td>\n",
       "      <td>N</td>\n",
       "    </tr>\n",
       "    <tr>\n",
       "      <th>2643238</th>\n",
       "      <td>R34ITLN8LBTFZN</td>\n",
       "      <td>3</td>\n",
       "      <td>48</td>\n",
       "      <td>56</td>\n",
       "      <td>N</td>\n",
       "      <td>N</td>\n",
       "    </tr>\n",
       "    <tr>\n",
       "      <th>2643239</th>\n",
       "      <td>R30D2N6TX0OFS</td>\n",
       "      <td>3</td>\n",
       "      <td>7</td>\n",
       "      <td>7</td>\n",
       "      <td>N</td>\n",
       "      <td>Y</td>\n",
       "    </tr>\n",
       "    <tr>\n",
       "      <th>2643240</th>\n",
       "      <td>R2MAGOAOXPFMF1</td>\n",
       "      <td>2</td>\n",
       "      <td>17</td>\n",
       "      <td>20</td>\n",
       "      <td>N</td>\n",
       "      <td>Y</td>\n",
       "    </tr>\n",
       "  </tbody>\n",
       "</table>\n",
       "<p>2643241 rows × 6 columns</p>\n",
       "</div>"
      ],
      "text/plain": [
       "              review_id  star_rating  helpful_votes  total_votes vine  \\\n",
       "0         REAKC26P07MDN            5              0            0    N   \n",
       "1        R3NU7OMZ4HQIEG            2              0            1    N   \n",
       "2        R14QJW3XF8QO1P            5              0            0    N   \n",
       "3        R2HB7AX0394ZGY            5              0            0    N   \n",
       "4         RGKMPDQGSAHR3            5              0            0    N   \n",
       "...                 ...          ...            ...          ...  ...   \n",
       "2643236   R40AVFLMGSX5Q            1             32           34    N   \n",
       "2643237  R13RP6H1OP0BFS            5              3            3    N   \n",
       "2643238  R34ITLN8LBTFZN            3             48           56    N   \n",
       "2643239   R30D2N6TX0OFS            3              7            7    N   \n",
       "2643240  R2MAGOAOXPFMF1            2             17           20    N   \n",
       "\n",
       "        verified_purchase  \n",
       "0                       Y  \n",
       "1                       Y  \n",
       "2                       Y  \n",
       "3                       Y  \n",
       "4                       Y  \n",
       "...                   ...  \n",
       "2643236                 N  \n",
       "2643237                 N  \n",
       "2643238                 N  \n",
       "2643239                 Y  \n",
       "2643240                 Y  \n",
       "\n",
       "[2643241 rows x 6 columns]"
      ]
     },
     "execution_count": 13,
     "metadata": {},
     "output_type": "execute_result"
    }
   ],
   "source": [
    "# Read the file\n",
    "vine_df = pd.read_csv(vine_file)\n",
    "vine_df"
   ]
  },
  {
   "cell_type": "code",
   "execution_count": 17,
   "id": "46716747",
   "metadata": {},
   "outputs": [],
   "source": [
    "# create table with only helpful votes >= 20\n",
    "votes_20 = vine_df[(vine_df[\"helpful_votes\"] >= 20)]"
   ]
  },
  {
   "cell_type": "code",
   "execution_count": 18,
   "id": "c379f399",
   "metadata": {},
   "outputs": [
    {
     "name": "stdout",
     "output_type": "stream",
     "text": [
      "              review_id  star_rating  helpful_votes  total_votes vine  \\\n",
      "128      R21KC552Y6HL8X            1             27           31    N   \n",
      "161       RX9WC9FTIR1XR            5             25           25    N   \n",
      "256       RGDCOU1KBHMNG            3             29           31    N   \n",
      "267       RVTYWID2TPMMY            2             35           42    N   \n",
      "719      R2CMPZ5VESGRLY            4             27           28    N   \n",
      "...                 ...          ...            ...          ...  ...   \n",
      "2643192   RFN39V2QYNE49            5             62           72    N   \n",
      "2643199  R37NBT4U1EL04K            5             47           61    N   \n",
      "2643213   RU2X9GTDZ00IM            5             58           59    N   \n",
      "2643236   R40AVFLMGSX5Q            1             32           34    N   \n",
      "2643238  R34ITLN8LBTFZN            3             48           56    N   \n",
      "\n",
      "        verified_purchase  \n",
      "128                     Y  \n",
      "161                     Y  \n",
      "256                     Y  \n",
      "267                     Y  \n",
      "719                     Y  \n",
      "...                   ...  \n",
      "2643192                 N  \n",
      "2643199                 N  \n",
      "2643213                 N  \n",
      "2643236                 N  \n",
      "2643238                 N  \n",
      "\n",
      "[33933 rows x 6 columns]\n"
     ]
    }
   ],
   "source": [
    "print(votes_20)"
   ]
  },
  {
   "cell_type": "code",
   "execution_count": 21,
   "id": "5c96aae5",
   "metadata": {},
   "outputs": [],
   "source": [
    "#retrieve all the rows where the number of helpful_votes divided by total_votes is equal to or greater than 50%\n",
    "votes_math = votes_20[(votes_20[\"helpful_votes\"]//votes_20[\"total_votes\"] >= 0.5)]"
   ]
  },
  {
   "cell_type": "code",
   "execution_count": 22,
   "id": "b98eba99",
   "metadata": {},
   "outputs": [
    {
     "name": "stdout",
     "output_type": "stream",
     "text": [
      "              review_id  star_rating  helpful_votes  total_votes vine  \\\n",
      "161       RX9WC9FTIR1XR            5             25           25    N   \n",
      "1254     R3A1VQ3SQDXEJ3            5             20           20    N   \n",
      "1637     R34X0ZGVB3YGYO            5             47           47    N   \n",
      "2853     R1E5UU8JBUSHU2            5             29           29    N   \n",
      "3454     R32GLCISSDQH58            5             21           21    N   \n",
      "...                 ...          ...            ...          ...  ...   \n",
      "2643026  R2E7SKI0HVY4KI            1             31           31    N   \n",
      "2643054  R1DAK6B20LI6IO            5             30           30    N   \n",
      "2643090  R1ZRVX03Z7JZC2            4             20           20    N   \n",
      "2643103  R2AUKS35PKGUJQ            3             23           23    N   \n",
      "2643170  R2BM4RHIR0KTH2            5             22           22    N   \n",
      "\n",
      "        verified_purchase  \n",
      "161                     Y  \n",
      "1254                    Y  \n",
      "1637                    Y  \n",
      "2853                    Y  \n",
      "3454                    Y  \n",
      "...                   ...  \n",
      "2643026                 N  \n",
      "2643054                 N  \n",
      "2643090                 N  \n",
      "2643103                 N  \n",
      "2643170                 N  \n",
      "\n",
      "[5438 rows x 6 columns]\n"
     ]
    }
   ],
   "source": [
    "print(votes_math)"
   ]
  },
  {
   "cell_type": "code",
   "execution_count": 24,
   "id": "ed04e47b",
   "metadata": {},
   "outputs": [],
   "source": [
    "#retrieves all the rows where a review was written as part of the Vine program (paid), vine == 'Y'\n",
    "vine_yes = votes_math[(votes_math[\"vine\"] == \"Y\")]"
   ]
  },
  {
   "cell_type": "code",
   "execution_count": 25,
   "id": "2f844669",
   "metadata": {},
   "outputs": [
    {
     "name": "stdout",
     "output_type": "stream",
     "text": [
      "              review_id  star_rating  helpful_votes  total_votes vine  \\\n",
      "10241    R16OMUJIGI18JZ            5             72           72    Y   \n",
      "66423     RD2BCTVS59A5L            2             20           20    Y   \n",
      "466362   R1R20RAIUCR97A            4             25           25    Y   \n",
      "470940   R2232LLUOL22M2            3             24           24    Y   \n",
      "997295    RO48H3YM6HMHM            5             24           24    Y   \n",
      "1036579  R37X0CL4RSUDEI            3             29           29    Y   \n",
      "1327691  R2C2EVH363N2O0            5             21           21    Y   \n",
      "1338177  R3P8N0L8TX7TOF            4             21           21    Y   \n",
      "1407335  R2F97F5VXIC2LR            5             43           43    Y   \n",
      "1534078  R1NF4XB3U0T0DE            4             23           23    Y   \n",
      "1784179  R2WZOMKG5UPPHZ            4             46           46    Y   \n",
      "1941790  R2H8O3GTX08CFP            3             29           29    Y   \n",
      "1979726   RKHPBK4KLOT3E            4             47           47    Y   \n",
      "2063867  R2ZU6I8JDBZ1MC            4             43           43    Y   \n",
      "\n",
      "        verified_purchase  \n",
      "10241                   N  \n",
      "66423                   N  \n",
      "466362                  N  \n",
      "470940                  N  \n",
      "997295                  N  \n",
      "1036579                 N  \n",
      "1327691                 N  \n",
      "1338177                 N  \n",
      "1407335                 N  \n",
      "1534078                 N  \n",
      "1784179                 N  \n",
      "1941790                 N  \n",
      "1979726                 N  \n",
      "2063867                 N  \n"
     ]
    }
   ],
   "source": [
    "print(vine_yes)"
   ]
  },
  {
   "cell_type": "code",
   "execution_count": 26,
   "id": "5627a770",
   "metadata": {},
   "outputs": [],
   "source": [
    "#retrieve all the rows where the review was not part of the Vine program (unpaid), vine == 'N'.\n",
    "vine_no = votes_math[(votes_math[\"vine\"] == \"N\")]"
   ]
  },
  {
   "cell_type": "code",
   "execution_count": 27,
   "id": "7e7124b2",
   "metadata": {},
   "outputs": [
    {
     "name": "stdout",
     "output_type": "stream",
     "text": [
      "              review_id  star_rating  helpful_votes  total_votes vine  \\\n",
      "161       RX9WC9FTIR1XR            5             25           25    N   \n",
      "1254     R3A1VQ3SQDXEJ3            5             20           20    N   \n",
      "1637     R34X0ZGVB3YGYO            5             47           47    N   \n",
      "2853     R1E5UU8JBUSHU2            5             29           29    N   \n",
      "3454     R32GLCISSDQH58            5             21           21    N   \n",
      "...                 ...          ...            ...          ...  ...   \n",
      "2643026  R2E7SKI0HVY4KI            1             31           31    N   \n",
      "2643054  R1DAK6B20LI6IO            5             30           30    N   \n",
      "2643090  R1ZRVX03Z7JZC2            4             20           20    N   \n",
      "2643103  R2AUKS35PKGUJQ            3             23           23    N   \n",
      "2643170  R2BM4RHIR0KTH2            5             22           22    N   \n",
      "\n",
      "        verified_purchase  \n",
      "161                     Y  \n",
      "1254                    Y  \n",
      "1637                    Y  \n",
      "2853                    Y  \n",
      "3454                    Y  \n",
      "...                   ...  \n",
      "2643026                 N  \n",
      "2643054                 N  \n",
      "2643090                 N  \n",
      "2643103                 N  \n",
      "2643170                 N  \n",
      "\n",
      "[5424 rows x 6 columns]\n"
     ]
    }
   ],
   "source": [
    "print(vine_no)"
   ]
  },
  {
   "cell_type": "code",
   "execution_count": 28,
   "id": "b44a883d",
   "metadata": {},
   "outputs": [
    {
     "data": {
      "text/plain": [
       "2643241"
      ]
     },
     "execution_count": 28,
     "metadata": {},
     "output_type": "execute_result"
    }
   ],
   "source": [
    "#Determine the total number of reviews\n",
    "vine_df[\"review_id\"].count()"
   ]
  },
  {
   "cell_type": "code",
   "execution_count": 40,
   "id": "8456b66d",
   "metadata": {},
   "outputs": [
    {
     "data": {
      "text/plain": [
       "1645283"
      ]
     },
     "execution_count": 40,
     "metadata": {},
     "output_type": "execute_result"
    }
   ],
   "source": [
    "#number of 5-star reviews\n",
    "vine_5 = vine_df[(vine_df[\"star_rating\"] == 5)]\n",
    "total5 = vine_5[\"star_rating\"].count()\n",
    "total5"
   ]
  },
  {
   "cell_type": "code",
   "execution_count": 41,
   "id": "2fefdcee",
   "metadata": {},
   "outputs": [
    {
     "data": {
      "text/plain": [
       "4343"
      ]
     },
     "execution_count": 41,
     "metadata": {},
     "output_type": "execute_result"
    }
   ],
   "source": [
    "#paid 5-star reviews (vine Y and review =5)\n",
    "paid_5 = vine_5[(vine_5[\"vine\"] == \"Y\")]\n",
    "paid = paid_5[\"vine\"].count()\n",
    "paid"
   ]
  },
  {
   "cell_type": "code",
   "execution_count": 42,
   "id": "5aa57a35",
   "metadata": {},
   "outputs": [
    {
     "data": {
      "text/plain": [
       "1640940"
      ]
     },
     "execution_count": 42,
     "metadata": {},
     "output_type": "execute_result"
    }
   ],
   "source": [
    "# unpaid 5-star review (vine Y and review =5)\n",
    "unpaid_5 = vine_5[(vine_5[\"vine\"] == \"N\")]\n",
    "unpaid = unpaid_5[\"vine\"].count()\n",
    "unpaid"
   ]
  },
  {
   "cell_type": "code",
   "execution_count": 44,
   "id": "0c151b76",
   "metadata": {},
   "outputs": [
    {
     "data": {
      "text/plain": [
       "0.26396674614640764"
      ]
     },
     "execution_count": 44,
     "metadata": {},
     "output_type": "execute_result"
    }
   ],
   "source": [
    "#passing_math_percentage = passing_math_count / float(student_count) * 100\n",
    "ppaid_5 = paid / float(total5) * 100\n",
    "ppaid_5"
   ]
  },
  {
   "cell_type": "code",
   "execution_count": 45,
   "id": "06991f95",
   "metadata": {},
   "outputs": [
    {
     "data": {
      "text/plain": [
       "99.73603325385359"
      ]
     },
     "execution_count": 45,
     "metadata": {},
     "output_type": "execute_result"
    }
   ],
   "source": [
    "punpaid_5 = unpaid / float(total5) * 100\n",
    "punpaid_5"
   ]
  }
 ],
 "metadata": {
  "kernelspec": {
   "display_name": "Python 3",
   "language": "python",
   "name": "python3"
  },
  "language_info": {
   "codemirror_mode": {
    "name": "ipython",
    "version": 3
   },
   "file_extension": ".py",
   "mimetype": "text/x-python",
   "name": "python",
   "nbconvert_exporter": "python",
   "pygments_lexer": "ipython3",
   "version": "3.8.8"
  }
 },
 "nbformat": 4,
 "nbformat_minor": 5
}
